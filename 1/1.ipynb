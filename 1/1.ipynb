{
 "cells": [
  {
   "cell_type": "markdown",
   "metadata": {},
   "source": [
    "## Q1. Downloading the data"
   ]
  },
  {
   "cell_type": "code",
   "execution_count": 2,
   "metadata": {},
   "outputs": [
    {
     "name": "stdout",
     "output_type": "stream",
     "text": [
      "19\n"
     ]
    }
   ],
   "source": [
    "import pandas as pd\n",
    "\n",
    "df = pd.read_parquet('data/yellow_tripdata_2023-02.parquet')\n",
    "print(len(df.columns))"
   ]
  },
  {
   "cell_type": "markdown",
   "metadata": {},
   "source": [
    "## Q2. Computing duration"
   ]
  },
  {
   "cell_type": "code",
   "execution_count": 3,
   "metadata": {},
   "outputs": [
    {
     "name": "stdout",
     "output_type": "stream",
     "text": [
      "The standard deviation of the trip duration in January is 42.59 minutes.\n"
     ]
    }
   ],
   "source": [
    "january_data = pd.read_parquet('data/yellow_tripdata_2023-01.parquet')\n",
    "\n",
    "january_data['duration'] = (pd.to_datetime(january_data['tpep_dropoff_datetime']) - pd.to_datetime(january_data['tpep_pickup_datetime'])).dt.total_seconds() / 60\n",
    "duration_std = january_data['duration'].std()\n",
    "print(f\"The standard deviation of the trip duration in January is {duration_std:.2f} minutes.\")"
   ]
  },
  {
   "cell_type": "markdown",
   "metadata": {},
   "source": [
    "## Q3. Dropping outliers"
   ]
  },
  {
   "cell_type": "code",
   "execution_count": 4,
   "metadata": {},
   "outputs": [
    {
     "name": "stdout",
     "output_type": "stream",
     "text": [
      "The fraction of records left after dropping outliers is 98%.\n"
     ]
    }
   ],
   "source": [
    "filtered_data = january_data[(january_data['duration'] >= 1) & (january_data['duration'] <= 60)]\n",
    "fraction_left = len(filtered_data) / len(january_data) * 100\n",
    "print(f\"The fraction of records left after dropping outliers is {fraction_left:.0f}%.\")\n"
   ]
  },
  {
   "cell_type": "markdown",
   "metadata": {},
   "source": [
    "## Q4. One-hot encoding"
   ]
  },
  {
   "cell_type": "code",
   "execution_count": 5,
   "metadata": {},
   "outputs": [
    {
     "name": "stderr",
     "output_type": "stream",
     "text": [
      "/var/folders/_g/dcc1mh151c37cqym56jdsb0w0000gn/T/ipykernel_1258/3768217653.py:4: SettingWithCopyWarning: \n",
      "A value is trying to be set on a copy of a slice from a DataFrame.\n",
      "Try using .loc[row_indexer,col_indexer] = value instead\n",
      "\n",
      "See the caveats in the documentation: https://pandas.pydata.org/pandas-docs/stable/user_guide/indexing.html#returning-a-view-versus-a-copy\n",
      "  filtered_data['PULocationID'] = filtered_data['PULocationID'].astype(str)\n",
      "/var/folders/_g/dcc1mh151c37cqym56jdsb0w0000gn/T/ipykernel_1258/3768217653.py:5: SettingWithCopyWarning: \n",
      "A value is trying to be set on a copy of a slice from a DataFrame.\n",
      "Try using .loc[row_indexer,col_indexer] = value instead\n",
      "\n",
      "See the caveats in the documentation: https://pandas.pydata.org/pandas-docs/stable/user_guide/indexing.html#returning-a-view-versus-a-copy\n",
      "  filtered_data['DOLocationID'] = filtered_data['DOLocationID'].astype(str)\n"
     ]
    },
    {
     "name": "stdout",
     "output_type": "stream",
     "text": [
      "The dimensionality of the feature matrix is 515 columns.\n"
     ]
    }
   ],
   "source": [
    "import pandas as pd\n",
    "from sklearn.feature_extraction import DictVectorizer\n",
    "\n",
    "filtered_data['PULocationID'] = filtered_data['PULocationID'].astype(str)\n",
    "filtered_data['DOLocationID'] = filtered_data['DOLocationID'].astype(str)\n",
    "\n",
    "\n",
    "data_dicts = filtered_data[['PULocationID', 'DOLocationID']].to_dict(orient='records')\n",
    "\n",
    "dv = DictVectorizer(sparse=False)\n",
    "X = dv.fit_transform(data_dicts)\n",
    "\n",
    "num_columns = X.shape[1]\n",
    "\n",
    "print(f\"The dimensionality of the feature matrix is {num_columns} columns.\")\n"
   ]
  },
  {
   "cell_type": "markdown",
   "metadata": {},
   "source": [
    "## Q5. Training a model"
   ]
  },
  {
   "cell_type": "code",
   "execution_count": 6,
   "metadata": {},
   "outputs": [],
   "source": [
    "from sklearn.linear_model import LinearRegression\n",
    "from sklearn.metrics import mean_squared_error\n",
    "import numpy as np\n",
    "y = filtered_data['duration'].values\n",
    "\n",
    "model = LinearRegression()\n",
    "model.fit(X, y)\n",
    "\n",
    "y_pred = model.predict(X)\n",
    "\n",
    "rmse = np.sqrt(mean_squared_error(y, y_pred))\n",
    "\n",
    "print(f\"The RMSE of the model on the training data is {rmse:.2f}.\")"
   ]
  },
  {
   "cell_type": "markdown",
   "metadata": {},
   "source": [
    "## Q6. Evaluating the model"
   ]
  },
  {
   "cell_type": "code",
   "execution_count": null,
   "metadata": {},
   "outputs": [],
   "source": [
    "february_data = pd.read_parquet('path_to_february_file.parquet')\n",
    "\n",
    "# Compute the duration in minutes for February data\n",
    "february_data['duration'] = (pd.to_datetime(february_data['tpep_dropoff_datetime']) - pd.to_datetime(february_data['tpep_pickup_datetime'])).dt.total_seconds() / 60\n",
    "\n",
    "# Filter the data to remove outliers\n",
    "filtered_february_data = february_data[(february_data['duration'] >= 1) & (february_data['duration'] <= 60)]\n",
    "\n",
    "filtered_february_data['PULocationID'] = filtered_february_data['PULocationID'].astype(str)\n",
    "filtered_february_data['DOLocationID'] = filtered_february_data['DOLocationID'].astype(str)\n",
    "\n",
    "february_data_dicts = filtered_february_data[['PULocationID', 'DOLocationID']].to_dict(orient='records')\n",
    "\n",
    "X_val = dv.transform(february_data_dicts)\n",
    "\n",
    "y_val = filtered_february_data['duration'].values\n",
    "\n",
    "y_val_pred = model.predict(X_val)\n",
    "\n",
    "rmse_val = np.sqrt(mean_squared_error(y_val, y_val_pred))\n",
    "\n",
    "print(f\"The RMSE of the model on the validation data is {rmse_val:.2f}.\")\n"
   ]
  }
 ],
 "metadata": {
  "kernelspec": {
   "display_name": "mlops-zoomcamp-2024",
   "language": "python",
   "name": "python3"
  },
  "language_info": {
   "codemirror_mode": {
    "name": "ipython",
    "version": 3
   },
   "file_extension": ".py",
   "mimetype": "text/x-python",
   "name": "python",
   "nbconvert_exporter": "python",
   "pygments_lexer": "ipython3",
   "version": "3.11.4"
  }
 },
 "nbformat": 4,
 "nbformat_minor": 2
}
